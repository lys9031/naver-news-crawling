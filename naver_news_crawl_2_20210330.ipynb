{
 "cells": [
  {
   "cell_type": "code",
   "execution_count": 1,
   "metadata": {},
   "outputs": [
    {
     "data": {
      "text/plain": [
       "'C:\\\\Users\\\\mc\\\\Desktop'"
      ]
     },
     "execution_count": 1,
     "metadata": {},
     "output_type": "execute_result"
    }
   ],
   "source": [
    "pwd"
   ]
  },
  {
   "cell_type": "code",
   "execution_count": 24,
   "metadata": {},
   "outputs": [],
   "source": [
    "# 라이브러리 import\n",
    "import pandas as pd\n",
    "import numpy as np\n",
    "\n",
    "from selenium import webdriver                        # 라이브러리(모듈) 가져오라\n",
    "from selenium.webdriver import ActionChains as AC     # 웹브라우저 동작\n",
    "from tqdm import tqdm\n",
    "from tqdm.notebook import tqdm\n",
    "import re # 지금 코드에 사용하지는 않음...\n",
    "from time import sleep\n",
    "import time"
   ]
  },
  {
   "cell_type": "code",
   "execution_count": 25,
   "metadata": {},
   "outputs": [
    {
     "data": {
      "text/plain": [
       "'삼성전자'"
      ]
     },
     "execution_count": 25,
     "metadata": {},
     "output_type": "execute_result"
    }
   ],
   "source": [
    "# 데이터 수집할 키워드 지정\n",
    "keyword = \"삼성전자\"\n",
    "keyword"
   ]
  },
  {
   "cell_type": "markdown",
   "metadata": {},
   "source": [
    "# 네이버뉴스들 url 수집"
   ]
  },
  {
   "cell_type": "code",
   "execution_count": 51,
   "metadata": {},
   "outputs": [],
   "source": [
    "# 크롬창 띄우기\n",
    "driver = webdriver.Chrome(\"chromedriver.exe\")  # 맥 : /Users/aiden/Desktop/chromedriver\n",
    "driver.get(\"https://search.naver.com/search.naver?where=news&sm=tab_jum&query={}\".format(keyword))\n",
    "time.sleep(3) #문자 안에 변수를 넣고 싶을떼 넣고 싶은 위치에 {}를 쓰고 뒤에 .format(변수)를 넣어준다"
   ]
  },
  {
   "cell_type": "code",
   "execution_count": 52,
   "metadata": {},
   "outputs": [],
   "source": [
    "# page1에서 네이버뉴스 url 수집하기\n",
    "things = driver.find_elements_by_link_text('네이버뉴스')  \n",
    "\n",
    "url_list = []\n",
    "for thing in things:\n",
    "    url = thing.get_attribute('href')\n",
    "    url_list.append(url)\n",
    "    "
   ]
  },
  {
   "cell_type": "code",
   "execution_count": 53,
   "metadata": {},
   "outputs": [
    {
     "name": "stdout",
     "output_type": "stream",
     "text": [
      "34\n"
     ]
    },
    {
     "data": {
      "text/plain": [
       "['https://news.naver.com/main/read.nhn?mode=LSD&mid=sec&sid1=101&oid=629&aid=0000080385',\n",
       " 'https://news.naver.com/main/read.nhn?mode=LSD&mid=sec&sid1=101&oid=003&aid=0010475123',\n",
       " 'https://news.naver.com/main/read.nhn?mode=LSD&mid=sec&sid1=101&oid=003&aid=0010475018',\n",
       " 'https://news.naver.com/main/read.nhn?mode=LSD&mid=sec&sid1=101&oid=001&aid=0012361443',\n",
       " 'https://news.naver.com/main/read.nhn?mode=LSD&mid=sec&sid1=101&oid=020&aid=0003354445',\n",
       " 'https://news.naver.com/main/read.nhn?mode=LSD&mid=sec&sid1=101&oid=009&aid=0004787122',\n",
       " 'https://news.naver.com/main/read.nhn?mode=LSD&mid=sec&sid1=105&oid=366&aid=0000710078',\n",
       " 'https://news.naver.com/main/read.nhn?mode=LSD&mid=sec&sid1=101&oid=016&aid=0001828523',\n",
       " 'https://news.naver.com/main/read.nhn?mode=LSD&mid=sec&sid1=101&oid=015&aid=0004538485',\n",
       " 'https://news.naver.com/main/read.nhn?mode=LSD&mid=sec&sid1=105&oid=030&aid=0002942096',\n",
       " 'https://news.naver.com/main/read.nhn?mode=LSD&mid=sec&sid1=101&oid=031&aid=0000595919',\n",
       " 'https://news.naver.com/main/read.nhn?mode=LSD&mid=sec&sid1=105&oid=092&aid=0002220667',\n",
       " 'https://news.naver.com/main/read.nhn?mode=LSD&mid=sec&sid1=101&oid=015&aid=0004538525',\n",
       " 'https://news.naver.com/main/read.nhn?mode=LSD&mid=sec&sid1=101&oid=421&aid=0005322688',\n",
       " 'https://news.naver.com/main/read.nhn?mode=LSD&mid=sec&sid1=101&oid=015&aid=0004539164',\n",
       " 'https://news.naver.com/main/read.nhn?mode=LSD&mid=sec&sid1=105&oid=366&aid=0000710400',\n",
       " 'https://news.naver.com/main/read.nhn?mode=LSD&mid=sec&sid1=101&oid=031&aid=0000596161',\n",
       " 'https://news.naver.com/main/read.nhn?mode=LSD&mid=sec&sid1=101&oid=018&aid=0004915014',\n",
       " 'https://news.naver.com/main/read.nhn?mode=LSD&mid=sec&sid1=101&oid=003&aid=0010472826',\n",
       " 'https://news.naver.com/main/read.nhn?mode=LSD&mid=sec&sid1=101&oid=009&aid=0004786699',\n",
       " 'https://news.naver.com/main/read.nhn?mode=LSD&mid=sec&sid1=105&oid=092&aid=0002220617',\n",
       " 'https://news.naver.com/main/read.nhn?mode=LSD&mid=sec&sid1=101&oid=031&aid=0000595844',\n",
       " 'https://news.naver.com/main/read.nhn?mode=LSD&mid=sec&sid1=101&oid=009&aid=0004786651',\n",
       " 'https://news.naver.com/main/read.nhn?mode=LSD&mid=sec&sid1=101&oid=003&aid=0010472786',\n",
       " 'https://news.naver.com/main/read.nhn?mode=LSD&mid=sec&sid1=101&oid=003&aid=0010472774',\n",
       " 'https://news.naver.com/main/read.nhn?mode=LSD&mid=sec&sid1=100&oid=023&aid=0003611048',\n",
       " 'https://news.naver.com/main/read.nhn?mode=LSD&mid=sec&sid1=100&oid=003&aid=0010473622',\n",
       " 'https://news.naver.com/main/read.nhn?mode=LSD&mid=sec&sid1=100&oid=052&aid=0001581677',\n",
       " 'https://news.naver.com/main/read.nhn?mode=LSD&mid=sec&sid1=100&oid=015&aid=0004538441',\n",
       " 'https://news.naver.com/main/read.nhn?mode=LSD&mid=sec&sid1=100&oid=009&aid=0004786659',\n",
       " 'https://news.naver.com/main/read.nhn?mode=LSD&mid=sec&sid1=100&oid=018&aid=0004915207',\n",
       " 'https://news.naver.com/main/read.nhn?mode=LSD&mid=sec&sid1=102&oid=003&aid=0010473478',\n",
       " 'https://news.naver.com/main/read.nhn?mode=LSD&mid=sec&sid1=101&oid=214&aid=0001115561',\n",
       " 'https://news.naver.com/main/read.nhn?mode=LSD&mid=sec&sid1=101&oid=421&aid=0005319984']"
      ]
     },
     "execution_count": 53,
     "metadata": {},
     "output_type": "execute_result"
    }
   ],
   "source": [
    "print(len(url_list))\n",
    "url_list"
   ]
  },
  {
   "cell_type": "code",
   "execution_count": 54,
   "metadata": {
    "scrolled": true
   },
   "outputs": [],
   "source": [
    "df = pd.DataFrame({\"url\":url_list})\n",
    "df.to_csv('navernews_urls.csv')"
   ]
  },
  {
   "cell_type": "markdown",
   "metadata": {},
   "source": [
    "# 뉴스 별 댓글 수집"
   ]
  },
  {
   "cell_type": "code",
   "execution_count": 55,
   "metadata": {
    "scrolled": true
   },
   "outputs": [
    {
     "data": {
      "text/plain": [
       "0     https://news.naver.com/main/read.nhn?mode=LSD&...\n",
       "1     https://news.naver.com/main/read.nhn?mode=LSD&...\n",
       "2     https://news.naver.com/main/read.nhn?mode=LSD&...\n",
       "3     https://news.naver.com/main/read.nhn?mode=LSD&...\n",
       "4     https://news.naver.com/main/read.nhn?mode=LSD&...\n",
       "5     https://news.naver.com/main/read.nhn?mode=LSD&...\n",
       "6     https://news.naver.com/main/read.nhn?mode=LSD&...\n",
       "7     https://news.naver.com/main/read.nhn?mode=LSD&...\n",
       "8     https://news.naver.com/main/read.nhn?mode=LSD&...\n",
       "9     https://news.naver.com/main/read.nhn?mode=LSD&...\n",
       "10    https://news.naver.com/main/read.nhn?mode=LSD&...\n",
       "11    https://news.naver.com/main/read.nhn?mode=LSD&...\n",
       "12    https://news.naver.com/main/read.nhn?mode=LSD&...\n",
       "13    https://news.naver.com/main/read.nhn?mode=LSD&...\n",
       "14    https://news.naver.com/main/read.nhn?mode=LSD&...\n",
       "15    https://news.naver.com/main/read.nhn?mode=LSD&...\n",
       "16    https://news.naver.com/main/read.nhn?mode=LSD&...\n",
       "17    https://news.naver.com/main/read.nhn?mode=LSD&...\n",
       "18    https://news.naver.com/main/read.nhn?mode=LSD&...\n",
       "19    https://news.naver.com/main/read.nhn?mode=LSD&...\n",
       "20    https://news.naver.com/main/read.nhn?mode=LSD&...\n",
       "21    https://news.naver.com/main/read.nhn?mode=LSD&...\n",
       "22    https://news.naver.com/main/read.nhn?mode=LSD&...\n",
       "23    https://news.naver.com/main/read.nhn?mode=LSD&...\n",
       "24    https://news.naver.com/main/read.nhn?mode=LSD&...\n",
       "25    https://news.naver.com/main/read.nhn?mode=LSD&...\n",
       "26    https://news.naver.com/main/read.nhn?mode=LSD&...\n",
       "27    https://news.naver.com/main/read.nhn?mode=LSD&...\n",
       "28    https://news.naver.com/main/read.nhn?mode=LSD&...\n",
       "29    https://news.naver.com/main/read.nhn?mode=LSD&...\n",
       "30    https://news.naver.com/main/read.nhn?mode=LSD&...\n",
       "31    https://news.naver.com/main/read.nhn?mode=LSD&...\n",
       "32    https://news.naver.com/main/read.nhn?mode=LSD&...\n",
       "33    https://news.naver.com/main/read.nhn?mode=LSD&...\n",
       "Name: url, dtype: object"
      ]
     },
     "execution_count": 55,
     "metadata": {},
     "output_type": "execute_result"
    }
   ],
   "source": [
    "# 저장해둔 url 불러오기\n",
    "df = pd.read_csv('navernews_urls.csv')\n",
    "df['url']"
   ]
  },
  {
   "cell_type": "code",
   "execution_count": 56,
   "metadata": {},
   "outputs": [
    {
     "data": {
      "text/plain": [
       "34"
      ]
     },
     "execution_count": 56,
     "metadata": {},
     "output_type": "execute_result"
    }
   ],
   "source": [
    "len(df['url'])"
   ]
  },
  {
   "cell_type": "code",
   "execution_count": 57,
   "metadata": {},
   "outputs": [],
   "source": [
    "# 뉴스 크롬창 띄우기\n",
    "driver = webdriver.Chrome(\"chromedriver.exe\")  # 맥 : /Users/aiden/Desktop/chromedriver\n",
    "driver.get(df['url'][0])"
   ]
  },
  {
   "cell_type": "markdown",
   "metadata": {},
   "source": [
    "## 기사 제목,날짜,추천수 수집"
   ]
  },
  {
   "cell_type": "code",
   "execution_count": 58,
   "metadata": {},
   "outputs": [
    {
     "name": "stdout",
     "output_type": "stream",
     "text": [
      "'역대급 실적' 삼성·LG전자, 2분기도 날아오를까\n"
     ]
    }
   ],
   "source": [
    "# 기사 제목\n",
    "title = driver.find_element_by_css_selector('.tts_head')\n",
    "title = title.text\n",
    "print(title)"
   ]
  },
  {
   "cell_type": "code",
   "execution_count": 59,
   "metadata": {},
   "outputs": [
    {
     "name": "stdout",
     "output_type": "stream",
     "text": [
      "2021.04.30. 오전 12:01\n"
     ]
    }
   ],
   "source": [
    "# 기사 날짜\n",
    "date = driver.find_element_by_css_selector('.t11')\n",
    "date = date.text\n",
    "print(date)"
   ]
  },
  {
   "cell_type": "code",
   "execution_count": 60,
   "metadata": {},
   "outputs": [
    {
     "name": "stdout",
     "output_type": "stream",
     "text": [
      "4\n"
     ]
    }
   ],
   "source": [
    "# 기사 추천수 날짜\n",
    "up = driver.find_element_by_css_selector('.u_cnt._count')\n",
    "up = up.text\n",
    "print(up)"
   ]
  },
  {
   "cell_type": "markdown",
   "metadata": {},
   "source": [
    "## 기사감정 수집(좋아요, 훈훈해요, 슬퍼요, 화나요)"
   ]
  },
  {
   "cell_type": "code",
   "execution_count": 61,
   "metadata": {},
   "outputs": [
    {
     "name": "stdout",
     "output_type": "stream",
     "text": [
      "10\n",
      "1\n",
      "1\n",
      "2\n",
      "0\n"
     ]
    }
   ],
   "source": [
    "# 좋아요\n",
    "like = driver.find_element_by_css_selector(\".end_btn .u_likeit_list.good .u_likeit_list_count._count\")\n",
    "like = like.text\n",
    "print(like)\n",
    "\n",
    "# 훈훈해요\n",
    "warm = driver.find_element_by_css_selector(\".end_btn .u_likeit_list.warm .u_likeit_list_count._count\")\n",
    "warm = warm.text\n",
    "print(warm)\n",
    "\n",
    "# 슬퍼요\n",
    "sad = driver.find_element_by_css_selector(\".end_btn .u_likeit_list.sad .u_likeit_list_count._count\")\n",
    "sad = sad.text\n",
    "print(sad)\n",
    "\n",
    "# 화나요\n",
    "angry = driver.find_element_by_css_selector(\".end_btn .u_likeit_list.angry .u_likeit_list_count._count\")\n",
    "angry = angry.text\n",
    "print(angry)\n",
    "\n",
    "# 후속기사 원해요\n",
    "want = driver.find_element_by_css_selector(\".end_btn .u_likeit_list.want .u_likeit_list_count._count\")\n",
    "want = want.text\n",
    "print(want)"
   ]
  },
  {
   "cell_type": "markdown",
   "metadata": {},
   "source": [
    "## 댓글 수집"
   ]
  },
  {
   "cell_type": "code",
   "execution_count": 40,
   "metadata": {
    "scrolled": true
   },
   "outputs": [
    {
     "data": {
      "text/plain": [
       "75"
      ]
     },
     "execution_count": 40,
     "metadata": {},
     "output_type": "execute_result"
    }
   ],
   "source": [
    "# 기사 댓글 갯수 \n",
    "review_count = driver.find_element_by_css_selector(\".u_cbox_count\").text\n",
    "review_count = int(review_count.replace(',', ''))\n",
    "review_count"
   ]
  },
  {
   "cell_type": "code",
   "execution_count": 41,
   "metadata": {},
   "outputs": [
    {
     "data": {
      "text/plain": [
       "3"
      ]
     },
     "execution_count": 41,
     "metadata": {},
     "output_type": "execute_result"
    }
   ],
   "source": [
    "# 더보기 클릭 횟수\n",
    "moreview_num = review_count//20\n",
    "moreview_num"
   ]
  },
  {
   "cell_type": "code",
   "execution_count": 42,
   "metadata": {},
   "outputs": [],
   "source": [
    "# 댓글 버튼 클릭\n",
    "driver.find_element_by_css_selector(\".lo_txt\").click()\n",
    "time.sleep(1)"
   ]
  },
  {
   "cell_type": "code",
   "execution_count": 43,
   "metadata": {},
   "outputs": [],
   "source": [
    "# 더보기 버튼 여러번 클릭하기\n",
    "k=0\n",
    "while k <= moreview_num:  # 더보기 횟수만큼 반복 \n",
    "    try:\n",
    "        driver.find_element_by_css_selector(\".u_cbox_page_more\").click()  # 더보기 버튼 클릭\n",
    "        time.sleep(1)\n",
    "        k = k+1\n",
    "    except:        \n",
    "        break   # 에러나면 클릭 반복문을 빠져나가라"
   ]
  },
  {
   "cell_type": "code",
   "execution_count": 44,
   "metadata": {},
   "outputs": [
    {
     "data": {
      "application/vnd.jupyter.widget-view+json": {
       "model_id": "2fab69cf224b4a8a94030bf9a005e2b7",
       "version_major": 2,
       "version_minor": 0
      },
      "text/plain": [
       "HBox(children=(HTML(value=''), FloatProgress(value=0.0, max=75.0), HTML(value='')))"
      ]
     },
     "metadata": {},
     "output_type": "display_data"
    },
    {
     "name": "stdout",
     "output_type": "stream",
     "text": [
      "\n",
      "75\n"
     ]
    },
    {
     "data": {
      "text/plain": [
       "['삼성이 국민을 먹여살리고 문재인은 삼성을 망치고',\n",
       " '주력인 반도체가 부진해서 걱정이지만 삼성의 저력을 믿습니다..화이팅!!',\n",
       " '대만에서 삼성죽어간다고 소문 났음. 대만은 승승 장구 중. 이게 다 문재인 덕이다. 일본, 미국 대만에 붙게허고 삼성 경영진 일 못하게 괴롭히면서 삥뜯어가고. 대만이 문재인을 사랑함.',\n",
       " '삼성 현대 엘지같은 기업이 애국자들입니다.',\n",
       " '그런데 지금 시간대에 삼성전자 주가는 쭉쭉 하락세.... 뭐야 이거~~ ㅠ ㅠ',\n",
       " '삼성 저력 ㅋㅋ..정권이 적폐몰이 하고 감옥집어놓고 부당한세금 뜯어가고 ...세계는 반도체전쟁중인데 살아남겠냐...당장풀어주고 상속세도 삼성 반도체 연구개발비로 사용해라...다른나란 정부가 지원해 반도체 패권 잡으려하는판에..ㅉㅉ 이게 나라냐...망치는것들이지...',\n",
       " '이재용이 감옥가둔 문죄인은 삼성기술을 중공에 못넘겨서 안달이다',\n",
       " '작성자에 의해 삭제된 댓글입니다.',\n",
       " '종중종북 정권에서 잘했다. 삼성을 죽여 중공을 이롭게 할려는 중공 간첩 문죄인과 더불어 K공산당.',\n",
       " '문재인이랑 이재용이랑 사는 곳 바뀐거 아님?',\n",
       " '아이폰 오래돗안 사용했지만 결국 갤럭시로 돌아왔다 견고함과 사용하기에편하고 최근 S10이나 S21은 디자인의 최고봉 너무 이쁘고 성능도 대만족이다',\n",
       " '작성자에 의해 삭제된 댓글입니다.',\n",
       " '촌각을 다투는 반도체 사업에서 투자를 결정해야 할 총수를 구속시켜 놓고 뭘 하자는 거냐 삼성이 흔들리면 나라 전체의 경제가 어려워질 거 같은데 지금이라도 빨리 석방해라 대통령이 원칙이라는 그 알량한 자존심과 강성친문의 눈치를 보면 나라는 더 어려워진다 옛날 노무현 대통령이 제주해군기지 추진한 걸 봐라 뭘 하나 나라를 위해서 해 놓은 거 하나도 없는 무능정부',\n",
       " '기업보국 - 이건희,, 좌파망국 - 문죄인, 달님은 영창으로 !!! 조국은 깜빵으로 !!!',\n",
       " '반도체부진은 문재인의 업적임에 틀림없음.',\n",
       " '문가놈이 이재용 구속시키고 안풀어주니 삼성주가는 나락으로 떨어지네',\n",
       " '가전제품 LG보다 낫더라ㆍ LG는 이제 훅~~ 삼성 👍',\n",
       " '반도체 전쟁중 이재용부회장은 이순신,,,그리고 전쟁중 이재용부회장을 감옥에 가둔건 무능한 임금 선조(문재인)',\n",
       " '정부놈들은 잘되면 또 자화자찬하겠네.. 입만 살아있는 나쁜 사람들',\n",
       " '망해라',\n",
       " '삼성이 대한민국살립니다 삼성제품들만 많이사용해줍시다 애플폰쓰다 삼성폰쓰고있어요',\n",
       " '운영규정 미준수로 인해 삭제된 댓글입니다.',\n",
       " '근데 주가는 더 떨어지고 있다...',\n",
       " '반도체는 시간이 가면 자연히 이익이 나는 것이고 2분기 대박난다주식을 좋아하는 개미는 이 때가 마지막 기회.ㅋㅋ',\n",
       " '삼성과 국민은 벌고...앙이랑 그 패거리들은 뺏고..뿌리고~~~',\n",
       " '정치꾼들 모조리 없애고 삼성 같은 기업이 나라를 다스리는 게 훨 나을 듯.',\n",
       " '반도체를 중국에 넘기기위한 문재인 일당의 이적행위 같네요.',\n",
       " '우리 나라에 삼성과 같은 기업들이 많이 나타나야 한다.어느 한 기업에 나라가 좌지우지 당하면 안된다.',\n",
       " '똘딱정부 이런 보석을 돌 취급하는 LH로남불 떠불 문제인당 지금 반도체 모자라서 쌍불 킨건 모르고 아직도 사상 논쟁 남한테 다 뺏길 정부',\n",
       " '공매도로 기업의 가치가 떨어지고 있다. 벌써 시작이 되었다.',\n",
       " '이래도 사면 안시킬래? 시민단체 입닫아라',\n",
       " '작성자에 의해 삭제된 댓글입니다.',\n",
       " '주식은 돈많은 자들의 놀이터일뿐 실적 잘나오면 다음분기에 잘안나온다는 기사 쏟아냄',\n",
       " '애널 전망 신뢰가 안가네',\n",
       " '이재용 빼내라. 나라 망하는꼴 보기 싫으면.',\n",
       " '내가 삼성이면 한국에서 기업 안한다. 삼성 조건 좋게 받아줄수 있는 나라 널리고 널렸다.',\n",
       " '작성자에 의해 삭제된 댓글입니다.',\n",
       " '반도체는 1분기 비수기에 3조가 넘는 이익을 내는데 뭐가 부족일까. 얼마나 벌어야 흡족하지? 일반인은 꿈도 꿀 수 없는 천문학적인 숫자인데 너무 눈높이가 확연히 높아졌네..',\n",
       " '작성자에 의해 삭제된 댓글입니다.',\n",
       " '작성자에 의해 삭제된 댓글입니다.',\n",
       " '작성자에 의해 삭제된 댓글입니다.',\n",
       " '갤럭시s21 요즘 안팔리니까 공짜폰으로 팔던데 갤럭시가 이젠 옛날같지가 않다',\n",
       " '클린봇이 부적절한 표현을 감지한 댓글입니다.',\n",
       " '작성자에 의해 삭제된 댓글입니다.',\n",
       " '반도체 부진은 투자가 많아서겠지요 평택 증설 완료되는 내년 내후년에는 어닝 서프라이즈 기대합니다.',\n",
       " '작성자에 의해 삭제된 댓글입니다.',\n",
       " '망했네 폰팔아서 남는것도없는데 반도체가 나라를지탱하고있는데',\n",
       " '근데 주가는 왜 자꾸 빠지는겨 ... 내돈 내놔라',\n",
       " '대깨믄들은 삼성 쓰지마라',\n",
       " '작성자에 의해 삭제된 댓글입니다.',\n",
       " '국민이 삼성을 지키는거지 몬소리야 폰값이 얼만데 ᆢ 세금이나 잘내구 장사하셔',\n",
       " '누구 보란듯이 더더더 뻗어 나가는 삼성되기를',\n",
       " '드러운 빨갱이 문변 정부가 저렇게 방해도 꿋꿋하게 선전하는구나. 삼성 화이팅!',\n",
       " '그러면 뭐하냐고! 주식은 개속 떨어지는데...',\n",
       " '그런데말입니다...주가는 도데체 왜이럴까요..',\n",
       " '이재용 없으닌까 삼성이 날아 다닌다!전문경영인을 사장으로 앉히고 이재용은 수감생활 끝나면 사방팔방으로 여행다니면서맘편하게 살다가 저승가자!그것도 복이야!난 삼성가에서 태어나고 싶어도 안되는데!재용씨는 대박난거야!부모 잘만나서',\n",
       " '우리나라 40대 여성들은 삼성은 무너져도 상관없는데 중국과 단교가 더 큰 문제라서 코로나때도 입국을 막지 못했다고 맘까페에는 이야기 한다고 합니다. 여러분은 어떻게 생각하세요',\n",
       " '재용이 없어도 나네',\n",
       " '애플은 같은 분기 매출 100조 순이익 30조',\n",
       " '2분기 부터는 반도체도 많은 수익 기대됩니다!!!삼성전자 응원합니다~^^',\n",
       " '조선 반도체가 잘나간건 조선인이 뛰어나서가 아니라 미국이 일본이 기어올라서 견제하려고 프라자합의로 한국에 몰빵한거임 근데 이제 다시 그 반도체마저 가져가겠다고 선언함 일본도 미국 규제 풀렸으니 다시 참여할 예정 한국은 이제 아무것도없음 국뽕들이 맨날 처빨던 자동차,조선은 진작에 밀려났고 이제 반도체도 그럴 예정 제발 국뽕 좀 적당히 처마셔라 조선인이 뛰어난게 아니라 미국이 배려해준거니까 ㅋㅋㅋ',\n",
       " '작성자에 의해 삭제된 댓글입니다.',\n",
       " '그렌데도 주가는 왜 꼬꾸라지고 있냐??????',\n",
       " '작성자에 의해 삭제된 댓글입니다.',\n",
       " '가전은 lg라는데...실적이 어케되지...',\n",
       " '재드래곤없어도 잘 돌아간다. 잘못한거있으면 벌받고 복귀하자',\n",
       " '이재용 감옥가있어도 삼성전자 잘만 돌아가네?',\n",
       " '근데 주가는 왜 그래요.... 흐흐흑....',\n",
       " '이재용 부사장님, 구치소에 있어서 실적이 좋게 나오면 안될테데',\n",
       " '오시장 삼성안테 당에 돈 지원해달라고 요청하겠네. 박대통령이 가져간것처럼',\n",
       " 'ㅋㅋㅋㅋㅋ 애플은 제트기 타고 날든데 ㅋㅋㅋㅋㅋㅋ 이런것도 기사라고 재용이 꺼내볼려고 용쓰는구나 ㅋㅋㅋㅋ언플 하지말고 그냥 꺼내달라고 데모를 해라. 촛불들어, 그 편이 확실하겠다.',\n",
       " '작성자에 의해 삭제된 댓글입니다.',\n",
       " '전자제품 조립회사 아닌가?',\n",
       " '풉ㅋㅋ니덜이 살아 남을만한게 핸폰 밖에 더잇노?그나마📲방탄ㄷㄷ광고 모델로 썻으니BTS폰으로 가능햇쟤ㅎㄷㄷ_//근데 생활 가전은 레알로 LG한테 막 발리니 안되는거 알지???',\n",
       " '재용도련님 들어가있어도 잘돌아가네 유능한오너 보다 유능한직원이 중요하구나']"
      ]
     },
     "execution_count": 44,
     "metadata": {},
     "output_type": "execute_result"
    }
   ],
   "source": [
    "# review 수집하기\n",
    "review_list = []\n",
    "\n",
    "overlays1 = \".u_cbox_text_wrap\"\n",
    "reviews = driver.find_elements_by_css_selector(overlays1)\n",
    "\n",
    "for review in tqdm(reviews):    \n",
    "    review = review.text\n",
    "    review_list.append(review)\n",
    "\n",
    "print(len(review_list))\n",
    "review_list"
   ]
  },
  {
   "cell_type": "code",
   "execution_count": 18,
   "metadata": {},
   "outputs": [
    {
     "data": {
      "text/plain": [
       "{'기사명': '삼성전자, 휴대폰·TV 덕에 1분기 실적 날았다…반도체는 부진(종합)',\n",
       " '날짜': '2021.04.29. 오전 9:39',\n",
       " '추천수': '18',\n",
       " '댓글': ['삼성이 국민을 먹여살리고 문재인은 삼성을 망치고',\n",
       "  '주력인 반도체가 부진해서 걱정이지만 삼성의 저력을 믿습니다..화이팅!!',\n",
       "  '대만에서 삼성죽어간다고 소문 났음. 대만은 승승 장구 중. 이게 다 문재인 덕이다. 일본, 미국 대만에 붙게허고 삼성 경영진 일 못하게 괴롭히면서 삥뜯어가고. 대만이 문재인을 사랑함.',\n",
       "  '삼성 현대 엘지같은 기업이 애국자들입니다.',\n",
       "  '그런데 지금 시간대에 삼성전자 주가는 쭉쭉 하락세.... 뭐야 이거~~ ㅠ ㅠ',\n",
       "  '삼성 저력 ㅋㅋ..정권이 적폐몰이 하고 감옥집어놓고 부당한세금 뜯어가고 ...세계는 반도체전쟁중인데 살아남겠냐...당장풀어주고 상속세도 삼성 반도체 연구개발비로 사용해라...다른나란 정부가 지원해 반도체 패권 잡으려하는판에..ㅉㅉ 이게 나라냐...망치는것들이지...',\n",
       "  '이재용이 감옥가둔 문죄인은 삼성기술을 중공에 못넘겨서 안달이다',\n",
       "  '작성자에 의해 삭제된 댓글입니다.',\n",
       "  '종중종북 정권에서 잘했다. 삼성을 죽여 중공을 이롭게 할려는 중공 간첩 문죄인과 더불어 K공산당.',\n",
       "  '문재인이랑 이재용이랑 사는 곳 바뀐거 아님?',\n",
       "  '아이폰 오래돗안 사용했지만 결국 갤럭시로 돌아왔다 견고함과 사용하기에편하고 최근 S10이나 S21은 디자인의 최고봉 너무 이쁘고 성능도 대만족이다',\n",
       "  '작성자에 의해 삭제된 댓글입니다.',\n",
       "  '촌각을 다투는 반도체 사업에서 투자를 결정해야 할 총수를 구속시켜 놓고 뭘 하자는 거냐 삼성이 흔들리면 나라 전체의 경제가 어려워질 거 같은데 지금이라도 빨리 석방해라 대통령이 원칙이라는 그 알량한 자존심과 강성친문의 눈치를 보면 나라는 더 어려워진다 옛날 노무현 대통령이 제주해군기지 추진한 걸 봐라 뭘 하나 나라를 위해서 해 놓은 거 하나도 없는 무능정부',\n",
       "  '기업보국 - 이건희,, 좌파망국 - 문죄인, 달님은 영창으로 !!! 조국은 깜빵으로 !!!',\n",
       "  '반도체부진은 문재인의 업적임에 틀림없음.',\n",
       "  '문가놈이 이재용 구속시키고 안풀어주니 삼성주가는 나락으로 떨어지네',\n",
       "  '가전제품 LG보다 낫더라ㆍ LG는 이제 훅~~ 삼성 👍',\n",
       "  '반도체 전쟁중 이재용부회장은 이순신,,,그리고 전쟁중 이재용부회장을 감옥에 가둔건 무능한 임금 선조(문재인)',\n",
       "  '정부놈들은 잘되면 또 자화자찬하겠네.. 입만 살아있는 나쁜 사람들',\n",
       "  '망해라',\n",
       "  '삼성이 대한민국살립니다 삼성제품들만 많이사용해줍시다 애플폰쓰다 삼성폰쓰고있어요',\n",
       "  '운영규정 미준수로 인해 삭제된 댓글입니다.',\n",
       "  '근데 주가는 더 떨어지고 있다...',\n",
       "  '반도체는 시간이 가면 자연히 이익이 나는 것이고 2분기 대박난다주식을 좋아하는 개미는 이 때가 마지막 기회.ㅋㅋ',\n",
       "  '삼성과 국민은 벌고...앙이랑 그 패거리들은 뺏고..뿌리고~~~',\n",
       "  '정치꾼들 모조리 없애고 삼성 같은 기업이 나라를 다스리는 게 훨 나을 듯.',\n",
       "  '반도체를 중국에 넘기기위한 문재인 일당의 이적행위 같네요.',\n",
       "  '우리 나라에 삼성과 같은 기업들이 많이 나타나야 한다.어느 한 기업에 나라가 좌지우지 당하면 안된다.',\n",
       "  '똘딱정부 이런 보석을 돌 취급하는 LH로남불 떠불 문제인당 지금 반도체 모자라서 쌍불 킨건 모르고 아직도 사상 논쟁 남한테 다 뺏길 정부',\n",
       "  '공매도로 기업의 가치가 떨어지고 있다. 벌써 시작이 되었다.',\n",
       "  '이래도 사면 안시킬래? 시민단체 입닫아라',\n",
       "  '작성자에 의해 삭제된 댓글입니다.',\n",
       "  '주식은 돈많은 자들의 놀이터일뿐 실적 잘나오면 다음분기에 잘안나온다는 기사 쏟아냄',\n",
       "  '애널 전망 신뢰가 안가네',\n",
       "  '이재용 빼내라. 나라 망하는꼴 보기 싫으면.',\n",
       "  '내가 삼성이면 한국에서 기업 안한다. 삼성 조건 좋게 받아줄수 있는 나라 널리고 널렸다.',\n",
       "  '작성자에 의해 삭제된 댓글입니다.',\n",
       "  '반도체는 1분기 비수기에 3조가 넘는 이익을 내는데 뭐가 부족일까. 얼마나 벌어야 흡족하지? 일반인은 꿈도 꿀 수 없는 천문학적인 숫자인데 너무 눈높이가 확연히 높아졌네..',\n",
       "  '작성자에 의해 삭제된 댓글입니다.',\n",
       "  '작성자에 의해 삭제된 댓글입니다.',\n",
       "  '작성자에 의해 삭제된 댓글입니다.',\n",
       "  '갤럭시s21 요즘 안팔리니까 공짜폰으로 팔던데 갤럭시가 이젠 옛날같지가 않다',\n",
       "  '클린봇이 부적절한 표현을 감지한 댓글입니다.',\n",
       "  '작성자에 의해 삭제된 댓글입니다.',\n",
       "  '반도체 부진은 투자가 많아서겠지요 평택 증설 완료되는 내년 내후년에는 어닝 서프라이즈 기대합니다.',\n",
       "  '작성자에 의해 삭제된 댓글입니다.',\n",
       "  '망했네 폰팔아서 남는것도없는데 반도체가 나라를지탱하고있는데',\n",
       "  '근데 주가는 왜 자꾸 빠지는겨 ... 내돈 내놔라',\n",
       "  '대깨믄들은 삼성 쓰지마라',\n",
       "  '작성자에 의해 삭제된 댓글입니다.',\n",
       "  '국민이 삼성을 지키는거지 몬소리야 폰값이 얼만데 ᆢ 세금이나 잘내구 장사하셔',\n",
       "  '누구 보란듯이 더더더 뻗어 나가는 삼성되기를',\n",
       "  '드러운 빨갱이 문변 정부가 저렇게 방해도 꿋꿋하게 선전하는구나. 삼성 화이팅!',\n",
       "  '그러면 뭐하냐고! 주식은 개속 떨어지는데...',\n",
       "  '그런데말입니다...주가는 도데체 왜이럴까요..',\n",
       "  '이재용 없으닌까 삼성이 날아 다닌다!전문경영인을 사장으로 앉히고 이재용은 수감생활 끝나면 사방팔방으로 여행다니면서맘편하게 살다가 저승가자!그것도 복이야!난 삼성가에서 태어나고 싶어도 안되는데!재용씨는 대박난거야!부모 잘만나서',\n",
       "  '우리나라 40대 여성들은 삼성은 무너져도 상관없는데 중국과 단교가 더 큰 문제라서 코로나때도 입국을 막지 못했다고 맘까페에는 이야기 한다고 합니다. 여러분은 어떻게 생각하세요',\n",
       "  '재용이 없어도 나네',\n",
       "  '애플은 같은 분기 매출 100조 순이익 30조',\n",
       "  '2분기 부터는 반도체도 많은 수익 기대됩니다!!!삼성전자 응원합니다~^^',\n",
       "  '조선 반도체가 잘나간건 조선인이 뛰어나서가 아니라 미국이 일본이 기어올라서 견제하려고 프라자합의로 한국에 몰빵한거임 근데 이제 다시 그 반도체마저 가져가겠다고 선언함 일본도 미국 규제 풀렸으니 다시 참여할 예정 한국은 이제 아무것도없음 국뽕들이 맨날 처빨던 자동차,조선은 진작에 밀려났고 이제 반도체도 그럴 예정 제발 국뽕 좀 적당히 처마셔라 조선인이 뛰어난게 아니라 미국이 배려해준거니까 ㅋㅋㅋ',\n",
       "  '작성자에 의해 삭제된 댓글입니다.',\n",
       "  '그렌데도 주가는 왜 꼬꾸라지고 있냐??????',\n",
       "  '작성자에 의해 삭제된 댓글입니다.',\n",
       "  '가전은 lg라는데...실적이 어케되지...',\n",
       "  '재드래곤없어도 잘 돌아간다. 잘못한거있으면 벌받고 복귀하자',\n",
       "  '이재용 감옥가있어도 삼성전자 잘만 돌아가네?',\n",
       "  '근데 주가는 왜 그래요.... 흐흐흑....',\n",
       "  '이재용 부사장님, 구치소에 있어서 실적이 좋게 나오면 안될테데',\n",
       "  '오시장 삼성안테 당에 돈 지원해달라고 요청하겠네. 박대통령이 가져간것처럼',\n",
       "  'ㅋㅋㅋㅋㅋ 애플은 제트기 타고 날든데 ㅋㅋㅋㅋㅋㅋ 이런것도 기사라고 재용이 꺼내볼려고 용쓰는구나 ㅋㅋㅋㅋ언플 하지말고 그냥 꺼내달라고 데모를 해라. 촛불들어, 그 편이 확실하겠다.',\n",
       "  '작성자에 의해 삭제된 댓글입니다.',\n",
       "  '전자제품 조립회사 아닌가?',\n",
       "  '풉ㅋㅋ니덜이 살아 남을만한게 핸폰 밖에 더잇노?그나마📲방탄ㄷㄷ광고 모델로 썻으니BTS폰으로 가능햇쟤ㅎㄷㄷ_//근데 생활 가전은 레알로 LG한테 막 발리니 안되는거 알지???',\n",
       "  '재용도련님 들어가있어도 잘돌아가네 유능한오너 보다 유능한직원이 중요하구나'],\n",
       " '좋아요': '118',\n",
       " '훈훈해요': '3',\n",
       " '슬퍼요': '1',\n",
       " '화나요': '13',\n",
       " '후속기사 원해요': '4'}"
      ]
     },
     "execution_count": 18,
     "metadata": {},
     "output_type": "execute_result"
    }
   ],
   "source": [
    "target_info = {}\n",
    "\n",
    "target_info['기사명'] = title\n",
    "target_info['날짜'] = date\n",
    "target_info['추천수'] = up\n",
    "target_info['댓글'] = review_list\n",
    "target_info['좋아요'] = like\n",
    "target_info['훈훈해요'] = warm\n",
    "target_info['슬퍼요'] = sad\n",
    "target_info['화나요'] = angry\n",
    "target_info['후속기사 원해요'] = want\n",
    "            \n",
    "target_info"
   ]
  },
  {
   "cell_type": "markdown",
   "metadata": {},
   "source": [
    "## 전체 기사 for문으로 데이터 수집하기"
   ]
  },
  {
   "cell_type": "code",
   "execution_count": 45,
   "metadata": {},
   "outputs": [
    {
     "data": {
      "text/plain": [
       "35"
      ]
     },
     "execution_count": 45,
     "metadata": {},
     "output_type": "execute_result"
    }
   ],
   "source": [
    "len(df['url'])"
   ]
  },
  {
   "cell_type": "code",
   "execution_count": 46,
   "metadata": {},
   "outputs": [
    {
     "data": {
      "application/vnd.jupyter.widget-view+json": {
       "model_id": "2fbaa3f8d1234f8489f642bfa19a53b5",
       "version_major": 2,
       "version_minor": 0
      },
      "text/plain": [
       "HBox(children=(HTML(value=''), FloatProgress(value=0.0, max=5.0), HTML(value='')))"
      ]
     },
     "metadata": {},
     "output_type": "display_data"
    },
    {
     "data": {
      "application/vnd.jupyter.widget-view+json": {
       "model_id": "5c061ed0de8a4f9d99d7c50106614b11",
       "version_major": 2,
       "version_minor": 0
      },
      "text/plain": [
       "HBox(children=(HTML(value=''), FloatProgress(value=0.0, max=75.0), HTML(value='')))"
      ]
     },
     "metadata": {},
     "output_type": "display_data"
    },
    {
     "name": "stdout",
     "output_type": "stream",
     "text": [
      "\n",
      "삼성전자, 휴대폰·TV 덕에 1분기 실적 날았다…반도체는 부진(종합) ( 댓글 수: 75 )\n"
     ]
    },
    {
     "data": {
      "application/vnd.jupyter.widget-view+json": {
       "model_id": "6a6d80d43e994dae85c88e1450594ee5",
       "version_major": 2,
       "version_minor": 0
      },
      "text/plain": [
       "HBox(children=(HTML(value=''), FloatProgress(value=0.0, max=14.0), HTML(value='')))"
      ]
     },
     "metadata": {},
     "output_type": "display_data"
    },
    {
     "name": "stdout",
     "output_type": "stream",
     "text": [
      "\n",
      "삼성전자 1분기 매출 65조3900억…분기 최고 실적 ( 댓글 수: 14 )\n"
     ]
    },
    {
     "data": {
      "application/vnd.jupyter.widget-view+json": {
       "model_id": "d7756283c00e4073922d7f2bb87641cb",
       "version_major": 2,
       "version_minor": 0
      },
      "text/plain": [
       "HBox(children=(HTML(value=''), FloatProgress(value=0.0, max=3.0), HTML(value='')))"
      ]
     },
     "metadata": {},
     "output_type": "display_data"
    },
    {
     "name": "stdout",
     "output_type": "stream",
     "text": [
      "\n",
      "반도체 없이도 이만큼이나? 삼성전자 실적 책임진 '갤럭시·TV·가전' 삼형제 ( 댓글 수: 3 )\n"
     ]
    },
    {
     "data": {
      "application/vnd.jupyter.widget-view+json": {
       "model_id": "52505c8baa6b4ffdbbdf4fa546ba07d4",
       "version_major": 2,
       "version_minor": 0
      },
      "text/plain": [
       "HBox(children=(HTML(value=''), FloatProgress(value=0.0, max=12.0), HTML(value='')))"
      ]
     },
     "metadata": {},
     "output_type": "display_data"
    },
    {
     "name": "stdout",
     "output_type": "stream",
     "text": [
      "\n",
      "삼성전자, 반도체 4000억 손실에도 깜짝 호실적…슈퍼사이클 탄 2분기는 성적 더 좋다 ( 댓글 수: 12 )\n"
     ]
    },
    {
     "data": {
      "application/vnd.jupyter.widget-view+json": {
       "model_id": "6c58895794a04aae93f1e125c343ea0e",
       "version_major": 2,
       "version_minor": 0
      },
      "text/plain": [
       "HBox(children=(HTML(value=''), FloatProgress(value=0.0, max=2.0), HTML(value='')))"
      ]
     },
     "metadata": {},
     "output_type": "display_data"
    },
    {
     "name": "stdout",
     "output_type": "stream",
     "text": [
      "\n",
      "반도체 아쉬웠지만 모바일·가전의 힘…삼성전자, 1분기 실적 날았다 ( 댓글 수: 2 )\n",
      "\n",
      "5\n"
     ]
    },
    {
     "data": {
      "text/plain": [
       "{0: {'기사명': '삼성전자, 휴대폰·TV 덕에 1분기 실적 날았다…반도체는 부진(종합)',\n",
       "  '날짜': '2021.04.29. 오전 9:39',\n",
       "  '추천수': '18',\n",
       "  '좋아요': '118',\n",
       "  '훈훈해요': '3',\n",
       "  '슬퍼요': '1',\n",
       "  '화나요': '13',\n",
       "  '후속기사 원해요': '4',\n",
       "  '댓글 수': 75,\n",
       "  '댓글': ['삼성이 국민을 먹여살리고 문재인은 삼성을 망치고',\n",
       "   '주력인 반도체가 부진해서 걱정이지만 삼성의 저력을 믿습니다..화이팅!!',\n",
       "   '대만에서 삼성죽어간다고 소문 났음. 대만은 승승 장구 중. 이게 다 문재인 덕이다. 일본, 미국 대만에 붙게허고 삼성 경영진 일 못하게 괴롭히면서 삥뜯어가고. 대만이 문재인을 사랑함.',\n",
       "   '삼성 현대 엘지같은 기업이 애국자들입니다.',\n",
       "   '그런데 지금 시간대에 삼성전자 주가는 쭉쭉 하락세.... 뭐야 이거~~ ㅠ ㅠ',\n",
       "   '삼성 저력 ㅋㅋ..정권이 적폐몰이 하고 감옥집어놓고 부당한세금 뜯어가고 ...세계는 반도체전쟁중인데 살아남겠냐...당장풀어주고 상속세도 삼성 반도체 연구개발비로 사용해라...다른나란 정부가 지원해 반도체 패권 잡으려하는판에..ㅉㅉ 이게 나라냐...망치는것들이지...',\n",
       "   '이재용이 감옥가둔 문죄인은 삼성기술을 중공에 못넘겨서 안달이다',\n",
       "   '작성자에 의해 삭제된 댓글입니다.',\n",
       "   '종중종북 정권에서 잘했다. 삼성을 죽여 중공을 이롭게 할려는 중공 간첩 문죄인과 더불어 K공산당.',\n",
       "   '문재인이랑 이재용이랑 사는 곳 바뀐거 아님?',\n",
       "   '아이폰 오래돗안 사용했지만 결국 갤럭시로 돌아왔다 견고함과 사용하기에편하고 최근 S10이나 S21은 디자인의 최고봉 너무 이쁘고 성능도 대만족이다',\n",
       "   '작성자에 의해 삭제된 댓글입니다.',\n",
       "   '촌각을 다투는 반도체 사업에서 투자를 결정해야 할 총수를 구속시켜 놓고 뭘 하자는 거냐 삼성이 흔들리면 나라 전체의 경제가 어려워질 거 같은데 지금이라도 빨리 석방해라 대통령이 원칙이라는 그 알량한 자존심과 강성친문의 눈치를 보면 나라는 더 어려워진다 옛날 노무현 대통령이 제주해군기지 추진한 걸 봐라 뭘 하나 나라를 위해서 해 놓은 거 하나도 없는 무능정부',\n",
       "   '기업보국 - 이건희,, 좌파망국 - 문죄인, 달님은 영창으로 !!! 조국은 깜빵으로 !!!',\n",
       "   '반도체부진은 문재인의 업적임에 틀림없음.',\n",
       "   '문가놈이 이재용 구속시키고 안풀어주니 삼성주가는 나락으로 떨어지네',\n",
       "   '가전제품 LG보다 낫더라ㆍ LG는 이제 훅~~ 삼성 👍',\n",
       "   '반도체 전쟁중 이재용부회장은 이순신,,,그리고 전쟁중 이재용부회장을 감옥에 가둔건 무능한 임금 선조(문재인)',\n",
       "   '정부놈들은 잘되면 또 자화자찬하겠네.. 입만 살아있는 나쁜 사람들',\n",
       "   '망해라',\n",
       "   '삼성이 대한민국살립니다 삼성제품들만 많이사용해줍시다 애플폰쓰다 삼성폰쓰고있어요',\n",
       "   '운영규정 미준수로 인해 삭제된 댓글입니다.',\n",
       "   '근데 주가는 더 떨어지고 있다...',\n",
       "   '반도체는 시간이 가면 자연히 이익이 나는 것이고 2분기 대박난다주식을 좋아하는 개미는 이 때가 마지막 기회.ㅋㅋ',\n",
       "   '삼성과 국민은 벌고...앙이랑 그 패거리들은 뺏고..뿌리고~~~',\n",
       "   '정치꾼들 모조리 없애고 삼성 같은 기업이 나라를 다스리는 게 훨 나을 듯.',\n",
       "   '반도체를 중국에 넘기기위한 문재인 일당의 이적행위 같네요.',\n",
       "   '우리 나라에 삼성과 같은 기업들이 많이 나타나야 한다.어느 한 기업에 나라가 좌지우지 당하면 안된다.',\n",
       "   '똘딱정부 이런 보석을 돌 취급하는 LH로남불 떠불 문제인당 지금 반도체 모자라서 쌍불 킨건 모르고 아직도 사상 논쟁 남한테 다 뺏길 정부',\n",
       "   '공매도로 기업의 가치가 떨어지고 있다. 벌써 시작이 되었다.',\n",
       "   '이래도 사면 안시킬래? 시민단체 입닫아라',\n",
       "   '작성자에 의해 삭제된 댓글입니다.',\n",
       "   '주식은 돈많은 자들의 놀이터일뿐 실적 잘나오면 다음분기에 잘안나온다는 기사 쏟아냄',\n",
       "   '애널 전망 신뢰가 안가네',\n",
       "   '이재용 빼내라. 나라 망하는꼴 보기 싫으면.',\n",
       "   '내가 삼성이면 한국에서 기업 안한다. 삼성 조건 좋게 받아줄수 있는 나라 널리고 널렸다.',\n",
       "   '작성자에 의해 삭제된 댓글입니다.',\n",
       "   '반도체는 1분기 비수기에 3조가 넘는 이익을 내는데 뭐가 부족일까. 얼마나 벌어야 흡족하지? 일반인은 꿈도 꿀 수 없는 천문학적인 숫자인데 너무 눈높이가 확연히 높아졌네..',\n",
       "   '작성자에 의해 삭제된 댓글입니다.',\n",
       "   '작성자에 의해 삭제된 댓글입니다.',\n",
       "   '작성자에 의해 삭제된 댓글입니다.',\n",
       "   '갤럭시s21 요즘 안팔리니까 공짜폰으로 팔던데 갤럭시가 이젠 옛날같지가 않다',\n",
       "   '클린봇이 부적절한 표현을 감지한 댓글입니다.',\n",
       "   '작성자에 의해 삭제된 댓글입니다.',\n",
       "   '반도체 부진은 투자가 많아서겠지요 평택 증설 완료되는 내년 내후년에는 어닝 서프라이즈 기대합니다.',\n",
       "   '작성자에 의해 삭제된 댓글입니다.',\n",
       "   '작성자에 의해 삭제된 댓글입니다.',\n",
       "   '근데 주가는 왜 자꾸 빠지는겨 ... 내돈 내놔라',\n",
       "   '대깨믄들은 삼성 쓰지마라',\n",
       "   '작성자에 의해 삭제된 댓글입니다.',\n",
       "   '국민이 삼성을 지키는거지 몬소리야 폰값이 얼만데 ᆢ 세금이나 잘내구 장사하셔',\n",
       "   '누구 보란듯이 더더더 뻗어 나가는 삼성되기를',\n",
       "   '드러운 빨갱이 문변 정부가 저렇게 방해도 꿋꿋하게 선전하는구나. 삼성 화이팅!',\n",
       "   '그러면 뭐하냐고! 주식은 개속 떨어지는데...',\n",
       "   '그런데말입니다...주가는 도데체 왜이럴까요..',\n",
       "   '이재용 없으닌까 삼성이 날아 다닌다!전문경영인을 사장으로 앉히고 이재용은 수감생활 끝나면 사방팔방으로 여행다니면서맘편하게 살다가 저승가자!그것도 복이야!난 삼성가에서 태어나고 싶어도 안되는데!재용씨는 대박난거야!부모 잘만나서',\n",
       "   '우리나라 40대 여성들은 삼성은 무너져도 상관없는데 중국과 단교가 더 큰 문제라서 코로나때도 입국을 막지 못했다고 맘까페에는 이야기 한다고 합니다. 여러분은 어떻게 생각하세요',\n",
       "   '재용이 없어도 나네',\n",
       "   '애플은 같은 분기 매출 100조 순이익 30조',\n",
       "   '2분기 부터는 반도체도 많은 수익 기대됩니다!!!삼성전자 응원합니다~^^',\n",
       "   '조선 반도체가 잘나간건 조선인이 뛰어나서가 아니라 미국이 일본이 기어올라서 견제하려고 프라자합의로 한국에 몰빵한거임 근데 이제 다시 그 반도체마저 가져가겠다고 선언함 일본도 미국 규제 풀렸으니 다시 참여할 예정 한국은 이제 아무것도없음 국뽕들이 맨날 처빨던 자동차,조선은 진작에 밀려났고 이제 반도체도 그럴 예정 제발 국뽕 좀 적당히 처마셔라 조선인이 뛰어난게 아니라 미국이 배려해준거니까 ㅋㅋㅋ',\n",
       "   '작성자에 의해 삭제된 댓글입니다.',\n",
       "   '그렌데도 주가는 왜 꼬꾸라지고 있냐??????',\n",
       "   '작성자에 의해 삭제된 댓글입니다.',\n",
       "   '가전은 lg라는데...실적이 어케되지...',\n",
       "   '재드래곤없어도 잘 돌아간다. 잘못한거있으면 벌받고 복귀하자',\n",
       "   '이재용 감옥가있어도 삼성전자 잘만 돌아가네?',\n",
       "   '근데 주가는 왜 그래요.... 흐흐흑....',\n",
       "   '이재용 부사장님, 구치소에 있어서 실적이 좋게 나오면 안될테데',\n",
       "   '오시장 삼성안테 당에 돈 지원해달라고 요청하겠네. 박대통령이 가져간것처럼',\n",
       "   'ㅋㅋㅋㅋㅋ 애플은 제트기 타고 날든데 ㅋㅋㅋㅋㅋㅋ 이런것도 기사라고 재용이 꺼내볼려고 용쓰는구나 ㅋㅋㅋㅋ언플 하지말고 그냥 꺼내달라고 데모를 해라. 촛불들어, 그 편이 확실하겠다.',\n",
       "   '작성자에 의해 삭제된 댓글입니다.',\n",
       "   '전자제품 조립회사 아닌가?',\n",
       "   '풉ㅋㅋ니덜이 살아 남을만한게 핸폰 밖에 더잇노?그나마📲방탄ㄷㄷ광고 모델로 썻으니BTS폰으로 가능햇쟤ㅎㄷㄷ_//근데 생활 가전은 레알로 LG한테 막 발리니 안되는거 알지???',\n",
       "   '재용도련님 들어가있어도 잘돌아가네 유능한오너 보다 유능한직원이 중요하구나']},\n",
       " 1: {'기사명': '삼성전자 1분기 매출 65조3900억…분기 최고 실적',\n",
       "  '날짜': '2021.04.29. 오전 11:55',\n",
       "  '추천수': '7',\n",
       "  '좋아요': '45',\n",
       "  '훈훈해요': '0',\n",
       "  '슬퍼요': '0',\n",
       "  '화나요': '0',\n",
       "  '후속기사 원해요': '1',\n",
       "  '댓글 수': 14,\n",
       "  '댓글': ['대통령 만 똑바로면 100조 찍었다',\n",
       "   '애플은 100조 에 순이익 30조',\n",
       "   '대한민국은 국가채무가 2000조 넘었는데 삼성은 돈 벌어다주고. 기업이 돈벌면 좌파정권은 세금 뜯어 펑펑쓰고.',\n",
       "   '총수 없어도 잘나가네...',\n",
       "   '근데 왜 주식은 뒤로 가냐 분기 최고 실적이 악재냐 ㅋㅋㅋ연기금 / 기관 적당히해라 진짜',\n",
       "   '총수가 감옥에 있어 부재해도 잘돌아가게끔 회사를 효율적으로 운영하게만든 이재용의 능력이 더빛이난다...시스템이 잘만들어진 삼성 반에반만큼이라도 국가를 경영할 의지와 능력이 저들에겐 없었다..',\n",
       "   '작성자에 의해 삭제된 댓글입니다.',\n",
       "   '우리나라는 삼성이 돈벌어다 주면 좌파정권은 거덜내는 구조라고 보면 된다',\n",
       "   '역시.삼성.정말우리나라자랑입니다.이재용.석방되길',\n",
       "   '애플의 1/4에 불과한데, 이재용이 감빵에 쳐넣고 잘도 경쟁하겠다. 황금알 낳는 거위의 배를 갈랐어.',\n",
       "   '역쉬!!!삼성...최고의 글로벌리더답다 더수고한 삼성의 모든가족들에게 성과급 빵빵하게 지급해주세요 사회분위기 그딴거신경쓰지말고....삼성의 모든 근로자님들 정말수고많으셨고 임원진들도 수고많으셨어요!!!!삼성 ~~너무부럽습니다~~👍👍👍👍👍👍👍👍👍',\n",
       "   '대한민국의 자랑입니다.대한민국 대통령? 개뿔이다.삼성이 있어 대한민국이 빛납니다.고맙습니다.',\n",
       "   '어설픈 종북좌빨 뭉가넘 정부 아래서도 화이팅 한 삼성 수고하셨습니다. 종북좌빨 기생충들 모조리 저세상으로',\n",
       "   '와~ lg 전자 1년 매출이 60조원 수준인데 ㅋㅋㅋ 라이벌 맞냐?']},\n",
       " 2: {'기사명': \"반도체 없이도 이만큼이나? 삼성전자 실적 책임진 '갤럭시·TV·가전' 삼형제\",\n",
       "  '날짜': '2021.04.29. 오후 5:11',\n",
       "  '추천수': '2',\n",
       "  '좋아요': '21',\n",
       "  '훈훈해요': '0',\n",
       "  '슬퍼요': '0',\n",
       "  '화나요': '1',\n",
       "  '후속기사 원해요': '0',\n",
       "  '댓글 수': 3,\n",
       "  '댓글': ['삼성 화이팅 !!!', '이재용 석방하라', '정부에서 : 돈 벌었으니 이제 세금 내야지 ^^']},\n",
       " 3: {'기사명': '삼성전자, 반도체 4000억 손실에도 깜짝 호실적…슈퍼사이클 탄 2분기는 성적 더 좋다',\n",
       "  '날짜': '2021.04.29. 오후 3:33',\n",
       "  '추천수': '4',\n",
       "  '좋아요': '28',\n",
       "  '훈훈해요': '0',\n",
       "  '슬퍼요': '0',\n",
       "  '화나요': '1',\n",
       "  '후속기사 원해요': '0',\n",
       "  '댓글 수': 12,\n",
       "  '댓글': ['10조 넘으면 뭐해 세금으로 13조 갖다바칠 판에',\n",
       "   '실적 좋으면 뭐하나..주가는 줄줄 흘러내리구만...한국에 투자해봐야 덕될게 없음',\n",
       "   '힘을내요..삼성전자..',\n",
       "   '작성자에 의해 삭제된 댓글입니다.',\n",
       "   '이재용 풀어줘라 너무 불쌍하다 문죄인아',\n",
       "   '문재인때문에 4천억 손실인데도 이런실적 내는걸 보면 역시 삼성은 대단하구나',\n",
       "   '애플에 않되는가?..스마트폰만 보면 애플에 절반매출에 이익은 애플의 1/8수준..아직 갈길이 멀군..차근차근 따라가 역전을 하도록 노력합시다',\n",
       "   '만고의 진리~~ 좌좀이 약해지면 삼성은 강해진다~~',\n",
       "   '주가는 상속 때메누르고 있는겨?이재용이 싸게 가져가게?삼바는 막올리고..',\n",
       "   '10만전자 12만전자 시/부렁댔던 새들 어디 갔니??',\n",
       "   '주가는 왜이러냐',\n",
       "   '삼성전자 주가는 고평가 되어있다 5만원대가 적정가격임']},\n",
       " 4: {'기사명': '반도체 아쉬웠지만 모바일·가전의 힘…삼성전자, 1분기 실적 날았다',\n",
       "  '날짜': '2021.04.29. 오전 9:56',\n",
       "  '추천수': '',\n",
       "  '좋아요': '3',\n",
       "  '훈훈해요': '0',\n",
       "  '슬퍼요': '0',\n",
       "  '화나요': '0',\n",
       "  '후속기사 원해요': '0',\n",
       "  '댓글 수': 2,\n",
       "  '댓글': ['삼성전자 혼자 다 먹지말고, 협력업체들도 살려라...겨우 먹고살 만큼만 주지말고..상생좀 해라',\n",
       "   'ㅋㅋㅋㅋ 근데 왜 주식은 못날아']}}"
      ]
     },
     "execution_count": 46,
     "metadata": {},
     "output_type": "execute_result"
    }
   ],
   "source": [
    "dict = {}\n",
    "\n",
    "# 페이지당 기사 수집\n",
    "for i in tqdm(range(0, 5)):   # len(df['url'])\n",
    "    try:\n",
    "        # 뉴스 크롬창 띄우기\n",
    "        driver = webdriver.Chrome(\"chromedriver.exe\")  # 맥 : /Users/aiden/Desktop/chromedriver\n",
    "        driver.get(df['url'][i])\n",
    "        time.sleep(1)\n",
    "\n",
    "        # 기사 데이터 수집\n",
    "        title = driver.find_element_by_css_selector('.tts_head').text\n",
    "        date = driver.find_element_by_css_selector('.t11').text\n",
    "        up = driver.find_element_by_css_selector('.u_cnt._count').text\n",
    "        like = driver.find_element_by_css_selector(\".end_btn .u_likeit_list.good .u_likeit_list_count._count\").text\n",
    "        warm = driver.find_element_by_css_selector(\".end_btn .u_likeit_list.warm .u_likeit_list_count._count\").text\n",
    "        sad = driver.find_element_by_css_selector(\".end_btn .u_likeit_list.sad .u_likeit_list_count._count\").text\n",
    "        angry = driver.find_element_by_css_selector(\".end_btn .u_likeit_list.angry .u_likeit_list_count._count\").text\n",
    "        want = driver.find_element_by_css_selector(\".end_btn .u_likeit_list.want .u_likeit_list_count._count\").text\n",
    "\n",
    "        # 기사 댓글 갯수 \n",
    "        review_count = int(driver.find_element_by_css_selector(\".u_cbox_count\").text.replace(',', ''))\n",
    "\n",
    "        # 더보기 클릭 횟수\n",
    "        moreview_num = review_count//20\n",
    "\n",
    "        # 댓글 버튼 클릭\n",
    "        driver.find_element_by_css_selector(\".lo_txt\").click()\n",
    "        time.sleep(1)\n",
    "\n",
    "        # 더보기 버튼 여러번 클릭하기\n",
    "        k=0\n",
    "        while k <= moreview_num:  # 더보기 횟수만큼 반복 \n",
    "            try:\n",
    "                driver.find_element_by_css_selector(\".u_cbox_page_more\").click()  # 더보기 버튼 클릭\n",
    "                time.sleep(1)\n",
    "                k = k+1\n",
    "            except:        \n",
    "                break   # 에러나면 클릭 반복문을 빠져나가라\n",
    "\n",
    "        # review 수집하기\n",
    "        review_list = []\n",
    "        overlays1 = \".u_cbox_text_wrap\"\n",
    "        reviews = driver.find_elements_by_css_selector(overlays1)\n",
    "        for review in tqdm(reviews):    \n",
    "            review = review.text\n",
    "            review_list.append(review)\n",
    "\n",
    "        target_info = {}\n",
    "        target_info['기사명'] = title\n",
    "        target_info['날짜'] = date\n",
    "        target_info['추천수'] = up\n",
    "        target_info['좋아요'] = like\n",
    "        target_info['훈훈해요'] = warm\n",
    "        target_info['슬퍼요'] = sad\n",
    "        target_info['화나요'] = angry\n",
    "        target_info['후속기사 원해요'] = want\n",
    "        target_info['댓글 수'] = len(review_list)\n",
    "        target_info['댓글'] = review_list\n",
    "\n",
    "        dict[i] = target_info\n",
    "        \n",
    "        print(title, '( 댓글 수:', len(review_list),')')\n",
    "\n",
    "        driver.close()\n",
    "        time.sleep(1)\n",
    "        \n",
    "    except:\n",
    "        driver.close()\n",
    "        continue\n",
    "\n",
    "print(len(dict))\n",
    "dict"
   ]
  },
  {
   "cell_type": "code",
   "execution_count": 47,
   "metadata": {},
   "outputs": [
    {
     "data": {
      "text/html": [
       "<div>\n",
       "<style scoped>\n",
       "    .dataframe tbody tr th:only-of-type {\n",
       "        vertical-align: middle;\n",
       "    }\n",
       "\n",
       "    .dataframe tbody tr th {\n",
       "        vertical-align: top;\n",
       "    }\n",
       "\n",
       "    .dataframe thead th {\n",
       "        text-align: right;\n",
       "    }\n",
       "</style>\n",
       "<table border=\"1\" class=\"dataframe\">\n",
       "  <thead>\n",
       "    <tr style=\"text-align: right;\">\n",
       "      <th></th>\n",
       "      <th>기사명</th>\n",
       "      <th>날짜</th>\n",
       "      <th>추천수</th>\n",
       "      <th>좋아요</th>\n",
       "      <th>훈훈해요</th>\n",
       "      <th>슬퍼요</th>\n",
       "      <th>화나요</th>\n",
       "      <th>후속기사 원해요</th>\n",
       "      <th>댓글 수</th>\n",
       "      <th>댓글</th>\n",
       "    </tr>\n",
       "  </thead>\n",
       "  <tbody>\n",
       "    <tr>\n",
       "      <th>0</th>\n",
       "      <td>삼성전자, 휴대폰·TV 덕에 1분기 실적 날았다…반도체는 부진(종합)</td>\n",
       "      <td>2021.04.29. 오전 9:39</td>\n",
       "      <td>18</td>\n",
       "      <td>118</td>\n",
       "      <td>3</td>\n",
       "      <td>1</td>\n",
       "      <td>13</td>\n",
       "      <td>4</td>\n",
       "      <td>75</td>\n",
       "      <td>[삼성이 국민을 먹여살리고 문재인은 삼성을 망치고, 주력인 반도체가 부진해서 걱정이...</td>\n",
       "    </tr>\n",
       "    <tr>\n",
       "      <th>1</th>\n",
       "      <td>삼성전자 1분기 매출 65조3900억…분기 최고 실적</td>\n",
       "      <td>2021.04.29. 오전 11:55</td>\n",
       "      <td>7</td>\n",
       "      <td>45</td>\n",
       "      <td>0</td>\n",
       "      <td>0</td>\n",
       "      <td>0</td>\n",
       "      <td>1</td>\n",
       "      <td>14</td>\n",
       "      <td>[대통령 만 똑바로면 100조 찍었다, 애플은 100조 에 순이익 30조, 대한민국...</td>\n",
       "    </tr>\n",
       "    <tr>\n",
       "      <th>2</th>\n",
       "      <td>반도체 없이도 이만큼이나? 삼성전자 실적 책임진 '갤럭시·TV·가전' 삼형제</td>\n",
       "      <td>2021.04.29. 오후 5:11</td>\n",
       "      <td>2</td>\n",
       "      <td>21</td>\n",
       "      <td>0</td>\n",
       "      <td>0</td>\n",
       "      <td>1</td>\n",
       "      <td>0</td>\n",
       "      <td>3</td>\n",
       "      <td>[삼성 화이팅 !!!, 이재용 석방하라, 정부에서 : 돈 벌었으니 이제 세금 내야지...</td>\n",
       "    </tr>\n",
       "    <tr>\n",
       "      <th>3</th>\n",
       "      <td>삼성전자, 반도체 4000억 손실에도 깜짝 호실적…슈퍼사이클 탄 2분기는 성적 더 좋다</td>\n",
       "      <td>2021.04.29. 오후 3:33</td>\n",
       "      <td>4</td>\n",
       "      <td>28</td>\n",
       "      <td>0</td>\n",
       "      <td>0</td>\n",
       "      <td>1</td>\n",
       "      <td>0</td>\n",
       "      <td>12</td>\n",
       "      <td>[10조 넘으면 뭐해 세금으로 13조 갖다바칠 판에, 실적 좋으면 뭐하나..주가는 ...</td>\n",
       "    </tr>\n",
       "    <tr>\n",
       "      <th>4</th>\n",
       "      <td>반도체 아쉬웠지만 모바일·가전의 힘…삼성전자, 1분기 실적 날았다</td>\n",
       "      <td>2021.04.29. 오전 9:56</td>\n",
       "      <td></td>\n",
       "      <td>3</td>\n",
       "      <td>0</td>\n",
       "      <td>0</td>\n",
       "      <td>0</td>\n",
       "      <td>0</td>\n",
       "      <td>2</td>\n",
       "      <td>[삼성전자 혼자 다 먹지말고, 협력업체들도 살려라...겨우 먹고살 만큼만 주지말고....</td>\n",
       "    </tr>\n",
       "  </tbody>\n",
       "</table>\n",
       "</div>"
      ],
      "text/plain": [
       "                                                기사명                    날짜 추천수  \\\n",
       "0            삼성전자, 휴대폰·TV 덕에 1분기 실적 날았다…반도체는 부진(종합)   2021.04.29. 오전 9:39  18   \n",
       "1                     삼성전자 1분기 매출 65조3900억…분기 최고 실적  2021.04.29. 오전 11:55   7   \n",
       "2        반도체 없이도 이만큼이나? 삼성전자 실적 책임진 '갤럭시·TV·가전' 삼형제   2021.04.29. 오후 5:11   2   \n",
       "3  삼성전자, 반도체 4000억 손실에도 깜짝 호실적…슈퍼사이클 탄 2분기는 성적 더 좋다   2021.04.29. 오후 3:33   4   \n",
       "4              반도체 아쉬웠지만 모바일·가전의 힘…삼성전자, 1분기 실적 날았다   2021.04.29. 오전 9:56       \n",
       "\n",
       "   좋아요 훈훈해요 슬퍼요 화나요 후속기사 원해요  댓글 수  \\\n",
       "0  118    3   1  13        4    75   \n",
       "1   45    0   0   0        1    14   \n",
       "2   21    0   0   1        0     3   \n",
       "3   28    0   0   1        0    12   \n",
       "4    3    0   0   0        0     2   \n",
       "\n",
       "                                                  댓글  \n",
       "0  [삼성이 국민을 먹여살리고 문재인은 삼성을 망치고, 주력인 반도체가 부진해서 걱정이...  \n",
       "1  [대통령 만 똑바로면 100조 찍었다, 애플은 100조 에 순이익 30조, 대한민국...  \n",
       "2  [삼성 화이팅 !!!, 이재용 석방하라, 정부에서 : 돈 벌었으니 이제 세금 내야지...  \n",
       "3  [10조 넘으면 뭐해 세금으로 13조 갖다바칠 판에, 실적 좋으면 뭐하나..주가는 ...  \n",
       "4  [삼성전자 혼자 다 먹지말고, 협력업체들도 살려라...겨우 먹고살 만큼만 주지말고....  "
      ]
     },
     "execution_count": 47,
     "metadata": {},
     "output_type": "execute_result"
    }
   ],
   "source": [
    "# 판다스로 만들기\n",
    "import pandas as pd\n",
    "result_df = pd.DataFrame.from_dict(dict, 'index')\n",
    "result_df\n",
    "# result_df.rename(columns={result_df.columns[0] : name}, inplace=True)"
   ]
  },
  {
   "cell_type": "code",
   "execution_count": 48,
   "metadata": {},
   "outputs": [],
   "source": [
    "# 파일로 저장\n",
    "result_df.to_excel(\"naver_article_({}).xlsx\".format(keyword))"
   ]
  },
  {
   "cell_type": "code",
   "execution_count": null,
   "metadata": {},
   "outputs": [],
   "source": []
  },
  {
   "cell_type": "code",
   "execution_count": null,
   "metadata": {},
   "outputs": [],
   "source": []
  },
  {
   "cell_type": "code",
   "execution_count": null,
   "metadata": {},
   "outputs": [],
   "source": []
  }
 ],
 "metadata": {
  "kernelspec": {
   "display_name": "Python 3",
   "language": "python",
   "name": "python3"
  },
  "language_info": {
   "codemirror_mode": {
    "name": "ipython",
    "version": 3
   },
   "file_extension": ".py",
   "mimetype": "text/x-python",
   "name": "python",
   "nbconvert_exporter": "python",
   "pygments_lexer": "ipython3",
   "version": "3.8.5"
  },
  "varInspector": {
   "cols": {
    "lenName": 16,
    "lenType": 16,
    "lenVar": 40
   },
   "kernels_config": {
    "python": {
     "delete_cmd_postfix": "",
     "delete_cmd_prefix": "del ",
     "library": "var_list.py",
     "varRefreshCmd": "print(var_dic_list())"
    },
    "r": {
     "delete_cmd_postfix": ") ",
     "delete_cmd_prefix": "rm(",
     "library": "var_list.r",
     "varRefreshCmd": "cat(var_dic_list()) "
    }
   },
   "types_to_exclude": [
    "module",
    "function",
    "builtin_function_or_method",
    "instance",
    "_Feature"
   ],
   "window_display": false
  }
 },
 "nbformat": 4,
 "nbformat_minor": 2
}
